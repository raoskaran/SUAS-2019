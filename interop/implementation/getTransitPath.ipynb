{
 "cells": [
  {
   "cell_type": "code",
   "execution_count": 1,
   "metadata": {},
   "outputs": [],
   "source": [
    "import numpy as np\n",
    "import math\n",
    "from matplotlib import pyplot as plt\n",
    "import json\n",
    "from shapely.geometry import Point\n",
    "from shapely.geometry.polygon import Polygon"
   ]
  },
  {
   "cell_type": "code",
   "execution_count": 2,
   "metadata": {},
   "outputs": [],
   "source": [
    "class obstacle():\n",
    "    def __init__(self, center, radius, height):\n",
    "        self.center = center\n",
    "        self.radius = radius\n",
    "        self.height = height"
   ]
  },
  {
   "cell_type": "code",
   "execution_count": 3,
   "metadata": {},
   "outputs": [],
   "source": [
    "class wayPoint():\n",
    "    def __init__(self, coordinates, height):\n",
    "        self.coordinates = coordinates\n",
    "        self.height = height"
   ]
  },
  {
   "cell_type": "code",
   "execution_count": 4,
   "metadata": {},
   "outputs": [],
   "source": [
    "def check_collissions(circle, wpoint1, wpoint2):\n",
    "    #FOR NOW THIS DOESNT WORK IF ANYPOINT IS INSIDE THE OBSTACLE\n",
    "    \n",
    "    phi0 = 38.1461879 * np.pi / 180\n",
    "    x = 6310000 * wpoint1[1] * np.cos(phi0) \n",
    "    y = 6310000 * wpoint1[0]\n",
    "    wayPoint1 = np.array((6310000 * wpoint1[1] * np.cos(phi0),6310000 * wpoint1[0]))\n",
    "    wayPoint2 = np.array((6310000 * wpoint2[1] * np.cos(phi0),6310000 * wpoint2[0]))\n",
    "#     print(wayPoint1)\n",
    "#     print(wayPoint2)\n",
    "    center = np.array((6310000 * circle.center[1] * np.cos(phi0),6310000 * circle.center[0]))\n",
    "    \n",
    "    C = center\n",
    "    r = circle.radius / 3.281\n",
    "    v = np.subtract(wayPoint2,wayPoint1)\n",
    "    v = v*3.28\n",
    "#     print(\"crv is \",C,r,v)\n",
    " \n",
    "    #Compute coefficients of quadratic equations\n",
    "    a = np.dot(v, v)\n",
    "    b = 2 * np.dot(v, (np.subtract(wayPoint1,C)))\n",
    "    c = np.dot(wayPoint1, wayPoint1) + np.dot(C,C) - 2 * np.dot(wayPoint1, C) - r**2\n",
    "#      print(\"coeff are \",a,b,c)\n",
    "    #calculate discriminant\n",
    "    discriminant =  b**2 - 4 * a * c\n",
    "#     print(\"discriminant is \",discriminant)\n",
    "    if discriminant < 0:\n",
    "        return False, None, None\n",
    "    else :\n",
    "        sqrt_discriminant = math.sqrt(discriminant)\n",
    "#         print(sqrt_discriminant)\n",
    "        t1 = (-b + sqrt_discriminant)/(2 * a)\n",
    "        t2 = (-b - sqrt_discriminant)/(2 * a)\n",
    "#         print(t1, t2)\n",
    "    \n",
    "    pi1 = np.add(wayPoint1, t1*(np.subtract(wayPoint2, wayPoint1)))\n",
    "    pi2 = np.add(wayPoint1, t2*(np.subtract(wayPoint2, wayPoint1)))\n",
    "#     print(pi1, pi2)\n",
    "\n",
    "    p1 = np.array((pi1[1]/6310000, pi1[0]/(6310000 * np.cos(phi0))))\n",
    "    p2 = np.array((pi2[1]/6310000, pi2[0]/(6310000 * np.cos(phi0))))\n",
    "#     print(p1, p2)\n",
    "    #Check if the line hits the circle in the path or hits if extended\n",
    "    #If it hits return True and the parameter t if not return False and None\n",
    "    if not (0 <= t1 <= 1 or 0 <= t2 <=1):\n",
    "        return False, None, None\n",
    "    elif (0<= t1 <= 1 and not (0 <= t2 <=1)):\n",
    "#         p1 = np.add(wayPoint1, t1*(np.subtract(wayPoint2, wayPoint1)))\n",
    "        return True, p1, None\n",
    "    elif (not(0<= t1 <= 1) and 0 <= t2 <=1):\n",
    "#         p1 = np.add(wayPoint1, t2*(np.subtract(wayPoint2, wayPoint1)))\n",
    "        return True, p1, None\n",
    "    else:\n",
    "#         p1 = np.add(wayPoint1, t1*(np.subtract(wayPoint2, wayPoint1)))\n",
    "#         p2 = np.add(wayPoint1, t2*(np.subtract(wayPoint2, wayPoint1)))\n",
    "        return True, p2, p1"
   ]
  },
  {
   "cell_type": "code",
   "execution_count": 5,
   "metadata": {},
   "outputs": [],
   "source": [
    "def get_angle(vector1, vector2):\n",
    "    v1_u = vector1/np.linalg.norm(vector1) # unit vector in the direction of vector1\n",
    "    v2_u = vector1/np.linalg.norm(vector2) # unit vector in the direction of vector2\n",
    "\n",
    "    return np.arccos(np.clip(np.dot(v1_u,v2_u), -1.0, 1.0))"
   ]
  },
  {
   "cell_type": "code",
   "execution_count": 6,
   "metadata": {},
   "outputs": [],
   "source": [
    "def find_transit_wayPoint(point1, point2, flag):\n",
    "#Returns the directions of the transit waypoint\n",
    "   \n",
    "    origin = np.subtract(point1, point1) # translate the origin to point1\n",
    "    #print(point1)\n",
    "    \n",
    "    point2 = np.subtract(point2, point1)  # translate point2 to the new origin\n",
    "    #print(point2)\n",
    "\n",
    "    # convert point2 to polar\n",
    "    r = math.sqrt(np.sum(np.square(point2)))\n",
    "    #print(r)\n",
    "    if flag :\n",
    "        theta = np.arctan2(2,r)\n",
    "    else :\n",
    "        theta = - np.arctan2(2,r)\n",
    "#     print(theta ,'')\n",
    "    c, s = np.cos(theta), np.sin(theta)\n",
    "    #print(c,s)\n",
    "    R = np.array(((c,-s), (s,c)))\n",
    "    #print(R)\n",
    "    #rotate the vector and translate the origin back \n",
    "    point3 = np.add(np.matmul(point2, R), point1)\n",
    "#     print(point3)\n",
    "    return point3\n",
    "    "
   ]
  },
  {
   "cell_type": "code",
   "execution_count": 7,
   "metadata": {},
   "outputs": [],
   "source": [
    "def avoid_by_radius(wayPoint1, wayPoint2, obstacle):\n",
    "    check, po1, po2 = check_collissions(obstacle, wayPoint1.coordinates, wayPoint2.coordinates)\n",
    "#     print(check)\n",
    "#     print(check, po1, po2)\n",
    "#     transit_stack = []\n",
    "    real_transit_stack = []\n",
    "#     transit_stack.append(wayPoint1.coordinates)\n",
    "    real_transit_stack.append(wayPoint)\n",
    "    count = 0\n",
    "    while check:\n",
    "        if count < 30:\n",
    "            point3 = find_transit_wayPoint(wayPoint1.coordinates, po1, True)\n",
    "#             print(point3)\n",
    "            if polygon.contains(Point(point3)):\n",
    "                if isInside(point3[0], point3[1]):\n",
    "                    point3 = find_transit_wayPoint(wayPoint1.coordinates, po1, False)\n",
    "                    if polygon.contains(Point(point3)):\n",
    "#                             print(1)\n",
    "                            if isInside(point3[0], point3[1]):\n",
    "#                                 print(\"IsInside\")\n",
    "                                return None\n",
    "                            \n",
    "                            else:\n",
    "                                point = wayPoint(point3 , wayPoint1.height)\n",
    "#                                 print(point)\n",
    "#                                 transit_stack.append(point3)\n",
    "                                real_transit_stack.append(wayPoint(point3 , wayPoint1.height))\n",
    "                        #         print(point3)\n",
    "                                check, po1, po2 = check_collissions(obstacle, point3, wayPoint2.coordinates)\n",
    "                    else:\n",
    "#                             print(\"Polygon voilation\")\n",
    "                            return None\n",
    "                else:\n",
    "                    point = wayPoint(point3 , wayPoint1.height)\n",
    "#                     print(point)\n",
    "#                     transit_stack.append(point3)\n",
    "                    real_transit_stack.append(wayPoint(point3 , wayPoint1.height))\n",
    "            #         print(point3)\n",
    "                    check, po1, po2 = check_collissions(obstacle, point3, wayPoint2.coordinates)\n",
    "            #         print(check, po1, po2)\n",
    "            else :\n",
    "                point3 = find_transit_wayPoint(wayPoint1.coordinates, po1, False)\n",
    "                if polygon.contains(Point(point3)):\n",
    "                    if inInside(point3[0], point[1]):\n",
    "#                         print(\"IsInside\")\n",
    "                        return None\n",
    "                    else:\n",
    "                        point = wayPoint(point3 , wayPoint1.height)\n",
    "#                         print(point)\n",
    "#                         transit_stack.append(point3)\n",
    "                        real_transit_stack.append(wayPoint(point3 , wayPoint1.height))\n",
    "                #         print(point3)\n",
    "                        check, po1, po2 = check_collissions(obstacle, point3, wayPoint2.coordinates)\n",
    "                #         print(check, po1, po2)\n",
    "                else:\n",
    "                    return None\n",
    "        else:\n",
    "            return None\n",
    "#     transit_stack.append(wayPoint2.coordinates)\n",
    "#     real_transit_stack.append(wayPoint2.coordinates)\n",
    "#     print(real_transit_stack)\n",
    "    if count == 30:\n",
    "        return None\n",
    "    return real_transit_stack"
   ]
  },
  {
   "cell_type": "code",
   "execution_count": 8,
   "metadata": {},
   "outputs": [],
   "source": [
    "def check_height_collision(obstacle, wayPoint1, wayPoint2):\n",
    "    if wayPoint1.height > obstacle.height and wayPoint2.height > obstacle.height :\n",
    "        return False, None\n",
    "    elif wayPoint1.height > obstacle.height and wayPoint2.height < obstacle.height :\n",
    "        return True, 1\n",
    "    elif wayPoint1.height < obstacle.height and wayPoint2.height > obstacle.height :\n",
    "        return True, 2\n",
    "    else :\n",
    "        return True, 3\n",
    "    "
   ]
  },
  {
   "cell_type": "code",
   "execution_count": 9,
   "metadata": {},
   "outputs": [],
   "source": [
    "def avoid_by_height(obstacle, wayPoint1, wayPoint2, case) :\n",
    "    if case == 1:\n",
    "        check, p1, p2 = check_collissions(obstacle, wayPoint1.coordinates, wayPoint2.coordinates)\n",
    "        point = wayPoint(p2, wayPoint1.height)\n",
    "        return (point)\n",
    "        \n",
    "        return point\n",
    "    elif case == 2:\n",
    "        point = wayPoint(wayPoint1.coordinates, wayPoint2.height)\n",
    "        return (point)\n",
    "        \n",
    "    elif case == 3 :\n",
    "        check, p1, p2 = check_collissions(obstacle, wayPoint1, wayPoint2)\n",
    "        point1 = wayPoint(wayPoint1.coordinates, obstacle.height + 4)\n",
    "        point2 = wayPoint(p2, point1.height)\n",
    "        \n",
    "        return (point1, point2)\n",
    "        \n",
    "        "
   ]
  },
  {
   "cell_type": "code",
   "execution_count": 10,
   "metadata": {},
   "outputs": [],
   "source": [
    "def radius_or_height(wayPoint1, wayPoint2, obstacle):\n",
    "    check1 , case = check_height_collision(obstacle, wayPoint1, wayPoint2)\n",
    "#     print(\"check is \",check1)\n",
    "    if check1 == False :\n",
    "        return (False, None)\n",
    "    else :\n",
    "        if case == 1 or case == 2:\n",
    "            return (True, 'height', case)\n",
    "        elif case == 3:\n",
    "            return (True, 'radius', None)"
   ]
  },
  {
   "cell_type": "code",
   "execution_count": 11,
   "metadata": {},
   "outputs": [],
   "source": [
    "def isInside(x, y): \n",
    "      \n",
    "    # Compare radius of circle \n",
    "    # with distance of its center \n",
    "    # from given point\n",
    "    for obs in obstacle_list :       \n",
    "        if ((x - obs.center[0]) * (x - obs.center[0]) + \n",
    "            (y - obs.center[1]) * (y - obs.center[1]) <= obs.radius * obs.radius): \n",
    "            return True\n",
    "        else: \n",
    "            pass; \n",
    "    return False"
   ]
  },
  {
   "cell_type": "code",
   "execution_count": 12,
   "metadata": {},
   "outputs": [
    {
     "name": "stdout",
     "output_type": "stream",
     "text": [
      "[{'latitude': 38.15072526, 'altitude': 125.0, 'longitude': -76.428959}, {'latitude': 38.15165732, 'altitude': 125.0, 'longitude': -76.43601267}, {'latitude': 38.14808815, 'altitude': 125.0, 'longitude': -76.4317053}, {'latitude': 38.14524633, 'altitude': 125.0, 'longitude': -76.42783156}, {'latitude': 38.14801995, 'altitude': 125.0, 'longitude': -76.41927465}, {'latitude': 38.14890657, 'altitude': 200.0, 'longitude': -76.42207877}, {'latitude': 38.1436583521259, 'altitude': 125.0, 'longitude': -76.4343381386887}, {'latitude': 38.143568420067, 'altitude': 125.0, 'longitude': -76.4343381390411}, {'latitude': 38.1429902628067, 'altitude': 125.0, 'longitude': -76.4343381413065}, {'latitude': 38.1429003307477, 'altitude': 125.0, 'longitude': -76.4343381416589}]\n"
     ]
    }
   ],
   "source": [
    "with open ('mission2.json', 'r') as f:\n",
    "    plan = json.loads(json.load(f))\n",
    "    \n",
    "print(plan['waypoints'])\n",
    "\n",
    "waypoint_list = []\n",
    "for item in plan[\"waypoints\"] :\n",
    "    waypoint_list.append(wayPoint(np.array((item['latitude'], item['longitude'])), item['altitude']))\n",
    "    \n",
    "obstacle_list = []\n",
    "for items in plan['stationaryObstacles']:\n",
    "    obstacle_list.append(obstacle(np.array((items['latitude'],items['longitude'])),items['radius'] ,items['height']))\n",
    "    "
   ]
  },
  {
   "cell_type": "code",
   "execution_count": 13,
   "metadata": {},
   "outputs": [
    {
     "data": {
      "text/plain": [
       "[<__main__.obstacle at 0x1137f26d8>,\n",
       " <__main__.obstacle at 0x1137f2710>,\n",
       " <__main__.obstacle at 0x1137f2748>]"
      ]
     },
     "execution_count": 13,
     "metadata": {},
     "output_type": "execute_result"
    }
   ],
   "source": [
    "waypoint_list\n",
    "obstacle_list"
   ]
  },
  {
   "cell_type": "code",
   "execution_count": 14,
   "metadata": {},
   "outputs": [
    {
     "name": "stdout",
     "output_type": "stream",
     "text": [
      "[ 38.15072526 -76.428959  ] 125.0\n",
      "[ 38.15165732 -76.43601267] 125.0\n",
      "[ 38.14808815 -76.4317053 ] 125.0\n",
      "[ 38.14524633 -76.42783156] 125.0\n",
      "[ 38.14801995 -76.41927465] 125.0\n",
      "[ 38.14890657 -76.42207877] 200.0\n",
      "[ 38.14365835 -76.43433814] 125.0\n",
      "[ 38.14356842 -76.43433814] 125.0\n",
      "[ 38.14299026 -76.43433814] 125.0\n",
      "[ 38.14290033 -76.43433814] 125.0\n",
      "[ 38.14987274 -76.43385899] 243.539614443443 200.0\n",
      "[ 38.14663314 -76.4235531 ] 129.527424323074 110.0\n",
      "[ 38.14628246 -76.42820845] 243.539614443443 175.0\n"
     ]
    }
   ],
   "source": [
    "for wp in waypoint_list :\n",
    "    print (wp.coordinates, wp.height)\n",
    "    \n",
    "for o in obstacle_list:\n",
    "    print (o.center, o.radius, o.height)"
   ]
  },
  {
   "cell_type": "code",
   "execution_count": 15,
   "metadata": {},
   "outputs": [],
   "source": [
    "boundary_list = []\n",
    "bndyr_list = plan[\"flyZones\"][0]\n",
    "for item in bndyr_list[\"boundaryPoints\"]:\n",
    "    boundary_list.append((item[\"latitude\"], item[\"longitude\"]))\n",
    "    \n",
    "sgp_polygon = []\n",
    "\n",
    "for point in plan['searchGridPoints']:\n",
    "    sgp_polygon.append([point['latitude'],point['longitude']])\n",
    "    \n",
    "true = True\n",
    "false = False"
   ]
  },
  {
   "cell_type": "code",
   "execution_count": 16,
   "metadata": {},
   "outputs": [
    {
     "data": {
      "text/plain": [
       "[(38.1515670439252, -76.4387471436281),\n",
       " (38.1537298450728, -76.4312908441423),\n",
       " (38.1535017097286, -76.4220973212767),\n",
       " (38.1484260317907, -76.4145504878311),\n",
       " (38.1423257804296, -76.4164128537193),\n",
       " (38.1376795960747, -76.4319383389762),\n",
       " (38.1438819142001, -76.4368414690636),\n",
       " (38.1456120277003, -76.4329410425096)]"
      ]
     },
     "execution_count": 16,
     "metadata": {},
     "output_type": "execute_result"
    }
   ],
   "source": [
    "boundary_list \n"
   ]
  },
  {
   "cell_type": "code",
   "execution_count": 17,
   "metadata": {},
   "outputs": [],
   "source": [
    "polygon = Polygon(boundary_list)"
   ]
  },
  {
   "cell_type": "code",
   "execution_count": 18,
   "metadata": {
    "scrolled": false
   },
   "outputs": [
    {
     "name": "stdout",
     "output_type": "stream",
     "text": [
      "Make manual correction for waypoint 3\n",
      "Ignore Geofence Violation for obstacle 1 between Waypoints 9 and 10 obstacle avoided by height\n",
      "[ 38.14890657 -76.42207877]\n",
      "[ 38.14810483 -76.42395156]\n"
     ]
    }
   ],
   "source": [
    "final_wp = []\n",
    "\n",
    "for i in range(len(waypoint_list) - 1):\n",
    "    wp1 = waypoint_list[i]\n",
    "    wp2 = waypoint_list[i + 1]\n",
    "    for j in range(len(obstacle_list)):\n",
    "#         print(j)\n",
    "#         print(\"obstacle is \",obstacle_list[j].center)\n",
    "#         print(check_collissions(obstacle_list[j], wp1.coordinates, wp2.coordinates)[0])\n",
    "        if check_collissions(obstacle_list[j], wp1.coordinates, wp2.coordinates)[0]:\n",
    "            RoH = radius_or_height(wp1, wp2, obstacle_list[j])\n",
    "#             print(\"RoH is \",RoH)\n",
    "            if RoH[0] == True:\n",
    "                    if RoH[1] == 'height':\n",
    "#                         print(\"avoiding by height\")\n",
    "                        wp_t = avoid_by_height(obstacle_list[j], wp1, wp2, RoH[2])\n",
    "                        print(wp1.coordinates)\n",
    "                        print(wp_t.coordinates)\n",
    "                        final_wp.append(wp1)\n",
    "                        final_wp.append(wp_t)\n",
    "\n",
    "                    else:\n",
    "#                         print(\"avoiding by radius\")\n",
    "                        wp_t = avoid_by_radius(wp1, wp2, obstacle_list[j])\n",
    "                        if wp_t is None:\n",
    "                            print(\"Make manual correction for waypoint\", len(final_wp))\n",
    "                        else:\n",
    "                            print(wp_t)\n",
    "                            final_wp.extend(wp_t)\n",
    "            else:\n",
    "                    print(\"Ignore Geofence Violation for obstacle\", j,  \"between Waypoints\" , len(final_wp), \"and\", len(final_wp) + 1, \"obstacle avoided by height\") \n",
    "            \n",
    "        else:\n",
    "    \n",
    "            final_wp.append(wp1)"
   ]
  },
  {
   "cell_type": "code",
   "execution_count": 19,
   "metadata": {},
   "outputs": [
    {
     "name": "stdout",
     "output_type": "stream",
     "text": [
      "[ 38.15072526 -76.428959  ] 125.0\n",
      "[ 38.15072526 -76.428959  ] 125.0\n",
      "[ 38.15072526 -76.428959  ] 125.0\n",
      "[ 38.15165732 -76.43601267] 125.0\n",
      "[ 38.15165732 -76.43601267] 125.0\n",
      "[ 38.14808815 -76.4317053 ] 125.0\n",
      "[ 38.14808815 -76.4317053 ] 125.0\n",
      "[ 38.14808815 -76.4317053 ] 125.0\n",
      "[ 38.14524633 -76.42783156] 125.0\n",
      "[ 38.14524633 -76.42783156] 125.0\n",
      "[ 38.14801995 -76.41927465] 125.0\n",
      "[ 38.14801995 -76.41927465] 125.0\n",
      "[ 38.14801995 -76.41927465] 125.0\n",
      "[ 38.14890657 -76.42207877] 200.0\n",
      "[ 38.14890657 -76.42207877] 200.0\n",
      "[ 38.14890657 -76.42207877] 200.0\n",
      "[ 38.14810483 -76.42395156] 200.0\n",
      "[ 38.14365835 -76.43433814] 125.0\n",
      "[ 38.14365835 -76.43433814] 125.0\n",
      "[ 38.14365835 -76.43433814] 125.0\n",
      "[ 38.14356842 -76.43433814] 125.0\n",
      "[ 38.14356842 -76.43433814] 125.0\n",
      "[ 38.14356842 -76.43433814] 125.0\n",
      "[ 38.14299026 -76.43433814] 125.0\n",
      "[ 38.14299026 -76.43433814] 125.0\n",
      "[ 38.14299026 -76.43433814] 125.0\n"
     ]
    }
   ],
   "source": [
    "for wp in final_wp:\n",
    "    print(wp.coordinates, wp.height)"
   ]
  },
  {
   "cell_type": "code",
   "execution_count": 20,
   "metadata": {
    "scrolled": true
   },
   "outputs": [
    {
     "name": "stdout",
     "output_type": "stream",
     "text": [
      "[{'latitude': 38.15072526, 'longitude': -76.428959, 'altitude': 125.0}, {'latitude': 38.15072526, 'longitude': -76.428959, 'altitude': 125.0}, {'latitude': 38.15072526, 'longitude': -76.428959, 'altitude': 125.0}, {'latitude': 38.15165732, 'longitude': -76.43601267, 'altitude': 125.0}, {'latitude': 38.15165732, 'longitude': -76.43601267, 'altitude': 125.0}, {'latitude': 38.14808815, 'longitude': -76.4317053, 'altitude': 125.0}, {'latitude': 38.14808815, 'longitude': -76.4317053, 'altitude': 125.0}, {'latitude': 38.14808815, 'longitude': -76.4317053, 'altitude': 125.0}, {'latitude': 38.14524633, 'longitude': -76.42783156, 'altitude': 125.0}, {'latitude': 38.14524633, 'longitude': -76.42783156, 'altitude': 125.0}, {'latitude': 38.14801995, 'longitude': -76.41927465, 'altitude': 125.0}, {'latitude': 38.14801995, 'longitude': -76.41927465, 'altitude': 125.0}, {'latitude': 38.14801995, 'longitude': -76.41927465, 'altitude': 125.0}, {'latitude': 38.14890657, 'longitude': -76.42207877, 'altitude': 200.0}, {'latitude': 38.14890657, 'longitude': -76.42207877, 'altitude': 200.0}, {'latitude': 38.14890657, 'longitude': -76.42207877, 'altitude': 200.0}, {'latitude': 38.14810483114682, 'longitude': -76.42395156042697, 'altitude': 200.0}, {'latitude': 38.1436583521259, 'longitude': -76.4343381386887, 'altitude': 125.0}, {'latitude': 38.1436583521259, 'longitude': -76.4343381386887, 'altitude': 125.0}, {'latitude': 38.1436583521259, 'longitude': -76.4343381386887, 'altitude': 125.0}, {'latitude': 38.143568420067, 'longitude': -76.4343381390411, 'altitude': 125.0}, {'latitude': 38.143568420067, 'longitude': -76.4343381390411, 'altitude': 125.0}, {'latitude': 38.143568420067, 'longitude': -76.4343381390411, 'altitude': 125.0}, {'latitude': 38.1429902628067, 'longitude': -76.4343381413065, 'altitude': 125.0}, {'latitude': 38.1429902628067, 'longitude': -76.4343381413065, 'altitude': 125.0}, {'latitude': 38.1429902628067, 'longitude': -76.4343381413065, 'altitude': 125.0}]\n"
     ]
    }
   ],
   "source": [
    "qgc_wp = []\n",
    "for wp in final_wp:\n",
    "    qgc_wp.append(\n",
    "    {\n",
    "        'latitude':wp.coordinates[0],\n",
    "        'longitude':wp.coordinates[1],\n",
    "        'altitude':wp.height\n",
    "        \n",
    "    })\n",
    "print(qgc_wp)\n",
    "\n",
    "    "
   ]
  },
  {
   "cell_type": "code",
   "execution_count": 21,
   "metadata": {},
   "outputs": [],
   "source": [
    "item_list= []\n",
    "for item in qgc_wp:\n",
    "    item_list.append(\n",
    "        {\n",
    "    \n",
    "                \"AMSLAltAboveTerrain\": None,\n",
    "                \"Altitude\": item['altitude'],\n",
    "                \"AltitudeMode\": 1,\n",
    "                \"autoContinue\": true,\n",
    "                \"command\": 16,\n",
    "                \"doJumpId\": 3,\n",
    "                \"frame\": 3,\n",
    "                \"params\": [\n",
    "                    0,\n",
    "                    0,\n",
    "                    0,\n",
    "                    None,\n",
    "                    item['latitude'],\n",
    "                    item['longitude'],\n",
    "                    50\n",
    "                ],\n",
    "                \"type\": \"SimpleItem\"\n",
    "            })\n",
    "item_list.append(\n",
    "    {\n",
    "                \"TransectStyleComplexItem\": {\n",
    "                   \"CameraCalc\": {\n",
    "                        \"AdjustedFootprintFrontal\": 25,\n",
    "                        \"AdjustedFootprintSide\": 25,\n",
    "                        \"CameraName\": \"Manual (no camera specs)\",\n",
    "                        \"DistanceToSurface\": 50,\n",
    "                        \"DistanceToSurfaceRelative\": true,\n",
    "                        \"version\": 1\n",
    "                    },\n",
    "                    \"CameraShots\": None,\n",
    "                    \"CameraTriggerInTurnAround\": true,\n",
    "                    \"FollowTerrain\": false,\n",
    "                    \"HoverAndCapture\": false,\n",
    "                    \"Items\": [],\n",
    "                    \"Refly90Degrees\": false,\n",
    "                    \"TurnAroundDistance\": 10,\n",
    "                    \"VisualTransectPoints\": [],\n",
    "                    \"version\" : 1\n",
    "                },\n",
    "                        \n",
    "                \"angle\": 0,\n",
    "                \"complexItemBuiltInPreset\": false,\n",
    "                \"complexItemCameraSavedInPreset\": true,\n",
    "                \"complexItemPresetName\": \"\",\n",
    "                \"complexItemType\": \"survey\",\n",
    "                \"entryLocation\": 0,\n",
    "                \"flyAlternateTransects\": false,\n",
    "                \"polygon\": sgp_polygon,\n",
    "                \"splitConcavePolygons\": false,\n",
    "                \"type\": \"ComplexItem\",\n",
    "                \"version\": 5\n",
    "            \n",
    "    })\n",
    "    "
   ]
  },
  {
   "cell_type": "code",
   "execution_count": 22,
   "metadata": {},
   "outputs": [
    {
     "name": "stdout",
     "output_type": "stream",
     "text": [
      "[{'circle': {'center': [38.149872735, -76.433858985], 'radius': 243.539614443443, 'height': 200.0}, 'inclusion': False, 'version': 1}, {'circle': {'center': [38.14663314, -76.423553105], 'radius': 129.527424323074, 'height': 110.0}, 'inclusion': False, 'version': 1}, {'circle': {'center': [38.14628246, -76.42820845], 'radius': 243.539614443443, 'height': 175.0}, 'inclusion': False, 'version': 1}]\n"
     ]
    }
   ],
   "source": [
    "obstacle_list = []\n",
    "for item in plan['stationaryObstacles']:\n",
    "    obstacle_list.append(\n",
    "    {\n",
    "        \"circle\":{\n",
    "            \"center\":[\n",
    "                item['latitude'],\n",
    "                item['longitude']\n",
    "            ],\n",
    "            \"radius\":item['radius'],\n",
    "            \"height\":item['height']\n",
    "        },\n",
    "        \"inclusion\" : false,\n",
    "        \"version\" : 1\n",
    "    })\n",
    "print(obstacle_list)"
   ]
  },
  {
   "cell_type": "code",
   "execution_count": 23,
   "metadata": {},
   "outputs": [],
   "source": [
    "mission = {\n",
    "    \"fileType\" : \"Plan\",\n",
    "    \"geoFence\" : {\n",
    "        \"circles\" : obstacle_list,\n",
    "        \"polygons\" : [\n",
    "            {\n",
    "                \"inclusion\" : true,\n",
    "                \"polygon\" : boundary_list,\n",
    "                \"version\" : 1\n",
    "            }\n",
    "        ],\n",
    "        \"version\" : 2  \n",
    "    },\n",
    "    \"groundStation\": \"QGroundControl\",   \n",
    "    \"mission\" : {\n",
    "        \"cruiseSpeed\" : 25,\n",
    "        \"firmwareType\" : 12,\n",
    "        \"hoverSpeed\" : 5,\n",
    "        \"items\" : item_list,\n",
    "        \"plannedHomePosition\": [\n",
    "            38.1494555,\n",
    "            -76.4290577,\n",
    "            488.005\n",
    "        ],\n",
    "        \"vehicleType\": 2,\n",
    "        \"version\": 2\n",
    "    },\n",
    "    \"rallyPoints\": {\n",
    "        \"points\": [\n",
    "        ],\n",
    "        \"version\": 2\n",
    "    },\n",
    "    \"version\": 1\n",
    "}"
   ]
  },
  {
   "cell_type": "code",
   "execution_count": 24,
   "metadata": {},
   "outputs": [],
   "source": [
    "with open (\"final_mission.plan\", \"w+\") as f1:\n",
    "    json.dump(mission, f1)"
   ]
  },
  {
   "cell_type": "code",
   "execution_count": null,
   "metadata": {},
   "outputs": [],
   "source": []
  }
 ],
 "metadata": {
  "kernelspec": {
   "display_name": "Python 3",
   "language": "python",
   "name": "python3"
  },
  "language_info": {
   "codemirror_mode": {
    "name": "ipython",
    "version": 3
   },
   "file_extension": ".py",
   "mimetype": "text/x-python",
   "name": "python",
   "nbconvert_exporter": "python",
   "pygments_lexer": "ipython3",
   "version": "3.7.2"
  }
 },
 "nbformat": 4,
 "nbformat_minor": 2
}
